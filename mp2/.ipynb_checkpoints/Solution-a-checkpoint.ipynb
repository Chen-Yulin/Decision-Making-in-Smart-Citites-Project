{
 "cells": [
  {
   "cell_type": "code",
   "execution_count": 55,
   "id": "c9d67a74",
   "metadata": {},
   "outputs": [],
   "source": [
    "from scipy.optimize import linprog"
   ]
  },
  {
   "cell_type": "code",
   "execution_count": 56,
   "id": "7ee9d06d",
   "metadata": {},
   "outputs": [],
   "source": [
    "links = [(1,2),(2,3),(3,4),(1,3),(2,4)]\n",
    "capacities = {(1,2):6000, (2,3):6000, (3,4):6000, (1,3):3000, (2,4):3000}\n",
    "travel_times = {(1,2):3, (2,3):3, (3,4):3, (1,3):10, (2,4):10}"
   ]
  },
  {
   "cell_type": "code",
   "execution_count": 57,
   "id": "3607e3ab",
   "metadata": {},
   "outputs": [],
   "source": [
    "demands = {1:5000, 2:3000, 3:-5000, 4:-3000}"
   ]
  },
  {
   "cell_type": "code",
   "execution_count": 58,
   "id": "faea0ba0",
   "metadata": {},
   "outputs": [],
   "source": [
    "c = [travel_times[link] for link in links]"
   ]
  },
  {
   "cell_type": "code",
   "execution_count": 59,
   "id": "6ff4f14a",
   "metadata": {},
   "outputs": [
    {
     "data": {
      "text/plain": [
       "[3, 3, 3, 10, 10]"
      ]
     },
     "execution_count": 59,
     "metadata": {},
     "output_type": "execute_result"
    }
   ],
   "source": [
    "c"
   ]
  },
  {
   "cell_type": "code",
   "execution_count": 60,
   "id": "6d0caf83",
   "metadata": {},
   "outputs": [],
   "source": [
    "A_ub = []\n",
    "b_ub = []"
   ]
  },
  {
   "cell_type": "code",
   "execution_count": 61,
   "id": "1af612a1",
   "metadata": {},
   "outputs": [],
   "source": [
    "# capacity constrain\n",
    "for link in links:\n",
    "    A_row = [int(link == l) for l in links]\n",
    "    A_ub.append(A_row)\n",
    "    b_ub.append(capacities[link])"
   ]
  },
  {
   "cell_type": "code",
   "execution_count": 70,
   "id": "2b2cff87",
   "metadata": {},
   "outputs": [],
   "source": [
    "A_eq = []\n",
    "b_eq = []"
   ]
  },
  {
   "cell_type": "code",
   "execution_count": 71,
   "id": "c35b7dea",
   "metadata": {},
   "outputs": [],
   "source": [
    "# flow conservation\n",
    "for node in [1,2,3]:\n",
    "    A_row = [int(link[0] == node) - int(link[1] == node) for link in links]\n",
    "    A_eq.append(A_row)\n",
    "    if node not in demands:\n",
    "        b_eq.append(0)\n",
    "    else:\n",
    "        b_eq.append(demands[node])  "
   ]
  },
  {
   "cell_type": "code",
   "execution_count": 72,
   "id": "8788402e",
   "metadata": {},
   "outputs": [
    {
     "data": {
      "text/plain": [
       "[[1, 0, 0, 1, 0], [-1, 1, 0, 0, 1], [0, -1, 1, -1, 0]]"
      ]
     },
     "execution_count": 72,
     "metadata": {},
     "output_type": "execute_result"
    }
   ],
   "source": [
    "A_eq"
   ]
  },
  {
   "cell_type": "code",
   "execution_count": 73,
   "id": "24d7f193",
   "metadata": {},
   "outputs": [],
   "source": [
    "res = linprog(c=c, A_ub=A_ub, b_ub=b_ub, A_eq = A_eq, b_eq=b_eq)"
   ]
  },
  {
   "cell_type": "code",
   "execution_count": 74,
   "id": "07ecc97c",
   "metadata": {},
   "outputs": [
    {
     "data": {
      "text/plain": [
       "55999.9999531258"
      ]
     },
     "execution_count": 74,
     "metadata": {},
     "output_type": "execute_result"
    }
   ],
   "source": [
    "res.fun"
   ]
  },
  {
   "cell_type": "code",
   "execution_count": 75,
   "id": "8d7325d9",
   "metadata": {},
   "outputs": [
    {
     "data": {
      "text/plain": [
       "array([3866.70844779, 5999.99999497, 2133.29154718, 1133.29154802,\n",
       "        866.70845031])"
      ]
     },
     "execution_count": 75,
     "metadata": {},
     "output_type": "execute_result"
    }
   ],
   "source": [
    "res.x"
   ]
  },
  {
   "cell_type": "code",
   "execution_count": null,
   "id": "f4e823ae",
   "metadata": {},
   "outputs": [],
   "source": []
  }
 ],
 "metadata": {
  "kernelspec": {
   "display_name": "Python 3 (ipykernel)",
   "language": "python",
   "name": "python3"
  },
  "language_info": {
   "codemirror_mode": {
    "name": "ipython",
    "version": 3
   },
   "file_extension": ".py",
   "mimetype": "text/x-python",
   "name": "python",
   "nbconvert_exporter": "python",
   "pygments_lexer": "ipython3",
   "version": "3.9.16"
  }
 },
 "nbformat": 4,
 "nbformat_minor": 5
}
